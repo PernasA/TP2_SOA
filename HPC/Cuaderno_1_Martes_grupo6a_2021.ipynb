{
  "nbformat": 4,
  "nbformat_minor": 0,
  "metadata": {
    "colab": {
      "name": "Cuaderno_1_Martes_grupo6a_2021.ipynb",
      "provenance": [],
      "collapsed_sections": [],
      "authorship_tag": "ABX9TyOu79ffXF+gVtr0U1pkGDjb",
      "include_colab_link": true
    },
    "kernelspec": {
      "name": "python3",
      "display_name": "Python 3"
    },
    "language_info": {
      "name": "python"
    },
    "accelerator": "GPU"
  },
  "cells": [
    {
      "cell_type": "markdown",
      "metadata": {
        "id": "view-in-github",
        "colab_type": "text"
      },
      "source": [
        "<a href=\"https://colab.research.google.com/github/PernasA/TP2_SOA/blob/master/HPC/Cuaderno_1_Martes_grupo6a_2021.ipynb\" target=\"_parent\"><img src=\"https://colab.research.google.com/assets/colab-badge.svg\" alt=\"Open In Colab\"/></a>"
      ]
    },
    {
      "cell_type": "markdown",
      "metadata": {
        "id": "EKrwBVk-OuKG"
      },
      "source": [
        "\n",
        "### 1. Introducción\n",
        "\n",
        "El Ejercicio 1 del TP3 tiene como objetivo tomar una imagen como entrada, aplicarle el algoritmo escala de imagen, y mostrar la imagen transformada.\n",
        "\n",
        "El algoritmo \"Escala de Imagen\" se encarga de reducir el tamaño de la imagen. Su funcionamiento consiste en que cada píxel de salida se reemplaza por su píxel más cercano en la entrada. Se redondean las coordenadas a su entero más cercano. \n",
        "\n",
        "Vamos a ejecutar el algoritmo de manera secuencial, haciendo uso de la CPU; y luego haciendo uso de la GPU, con CUDA, realizando una ejecución paralela mediante threads. Una vez ejecutada la función en ambos casos, se mostrará la imagen mediante un plot.\n",
        "\n",
        "### 2. Armado del ambiente\n"
      ]
    },
    {
      "cell_type": "code",
      "metadata": {
        "colab": {
          "base_uri": "https://localhost:8080/"
        },
        "id": "kjFyreulOdKF",
        "outputId": "2d0628c7-81b0-4db2-8374-213d67762e37"
      },
      "source": [
        "#INSTALACION DE BIBLIOTECA 'PYCUDA'#\n",
        "!pip install pycuda"
      ],
      "execution_count": null,
      "outputs": [
        {
          "output_type": "stream",
          "name": "stdout",
          "text": [
            "Collecting pycuda\n",
            "  Downloading pycuda-2021.1.tar.gz (1.7 MB)\n",
            "\u001b[K     |████████████████████████████████| 1.7 MB 4.3 MB/s \n",
            "\u001b[?25h  Installing build dependencies ... \u001b[?25l\u001b[?25hdone\n",
            "  Getting requirements to build wheel ... \u001b[?25l\u001b[?25hdone\n"
          ]
        }
      ]
    },
    {
      "cell_type": "code",
      "metadata": {
        "id": "9HmEDSAeWKpJ"
      },
      "source": [
        "!pip install validators"
      ],
      "execution_count": null,
      "outputs": []
    },
    {
      "cell_type": "markdown",
      "metadata": {
        "id": "t3IywKY4f_T5"
      },
      "source": [
        "### 3. Desarrollo\n",
        "# CPU\n"
      ]
    },
    {
      "cell_type": "code",
      "metadata": {
        "id": "usyxvldvgHiN",
        "cellView": "code"
      },
      "source": [
        "try:\n",
        "  #--------------------------------------BIBLIOTECAS--------------------------------------#\n",
        "  import validators\n",
        "  from PIL import Image\n",
        "  import matplotlib.pyplot as plt\n",
        "  from datetime import datetime\n",
        "  import sys\n",
        "  import numpy as np\n",
        "\n",
        "  #-----------------------------------PARAMETRO IMAGEN------------------------------------#\n",
        "  #@title Ingrese la url de una imagen:\n",
        "\n",
        "  url_imagen = \"https://www.kolpaper.com/wp-content/uploads/2020/03/spiderman-wallpaper-hd.jpg\" #@param {type: \"string\" }\n",
        "\n",
        "  #Verificacion de que el usuario haya ingresado una URL de imagen valida\n",
        "  if(url_imagen == \"\" or not validators.url(url_imagen)):\n",
        "    raise TypeError(\"Debe ingresar la url de una imagen.\")\n",
        "\n",
        "  !wget {url_imagen} -O imagen.jpg\n",
        "  #Obtencion del tiempo inicial\n",
        "  tiempo_total = datetime.now()\n",
        "\n",
        "  #Declaracion de funcion que realiza el pasaje del tiempo obtenido mediante datetime.now(), a milisegundos.\n",
        "  tiempo_en_ms = lambda dt:(dt.days * 24 * 60 * 60 + dt.seconds) * 1000 + dt.microseconds / 1000.0\n",
        "\n",
        "  #---------------------------------------CODIGO--------------------------------------------#\n",
        "  # Importación de la imagen y obtencion de sus dimensiones \n",
        "  imagen_normal = Image.open('imagen.jpg')\n",
        "  width, height = imagen_normal.size\n",
        "\n",
        "  #Ploteo de la imagen original\n",
        "  plt.figure()\n",
        "  plt.title(\"IMAGEN ORIGINAL\")\n",
        "  imgplot=plt.imshow( imagen_normal )\n",
        "\n",
        "  # Creo una imagen vacia con los pixeles el ancho y el largo correspondiente\n",
        "  new_width, new_height = 340, 200\n",
        "  imagen_con_escala_nueva = Image.new(imagen_normal.mode, (new_width, new_height), 'white')\n",
        "\n",
        "  #Obtencion del tiempo previo a la ejecucion en GPU\n",
        "  tiempo_imagen_cpu = datetime.now()\n",
        "\n",
        "  # Declaro variables utiles para el algoritmo\n",
        "  scale_x = new_width/width\n",
        "  scale_y = new_height/height\n",
        "\n",
        "  # Lleno cada pixel de la imagen creada\n",
        "  for y in range(new_height):\n",
        "      for x in range(new_width):\n",
        "        x_nearest = int(np.round(x/scale_x))\n",
        "        y_nearest = int(np.round(y/scale_y))\n",
        "        pixel = imagen_normal.getpixel((x_nearest, y_nearest))\n",
        "        imagen_con_escala_nueva.putpixel((x, y),  pixel)\n",
        "\n",
        "  # Guardo la imagen\n",
        "  imagen_con_escala_nueva.save('scaled_image.jpg')\n",
        "\n",
        "  #Calculo del tiempo total de procesamiento de la imagen en GPU\n",
        "  tiempo_imagen_cpu = datetime.now() - tiempo_imagen_cpu\n",
        "\n",
        "  #Ploteo de la imagen resultado\n",
        "  plt.figure()\n",
        "  plt.title(\"IMAGEN EDITADA\")\n",
        "  imgplot=plt.imshow( imagen_con_escala_nueva )\n",
        "\n",
        "  #Calculo del tiempo total de ejecucion del programa\n",
        "  tiempo_total = datetime.now() - tiempo_total\n",
        "\n",
        "  print(\"Tiempo total de ejecucion: \", tiempo_en_ms( tiempo_total ), \"[ms]\" )\n",
        "  print(\"Tiempo de procesamiento en CPU: \", tiempo_en_ms( tiempo_imagen_cpu   ), \"[ms]\" )\n",
        "\n",
        "except Exception as e:\n",
        "  print(\"Error\", e )\n",
        "  sys.exit()"
      ],
      "execution_count": null,
      "outputs": []
    },
    {
      "cell_type": "markdown",
      "metadata": {
        "id": "Vqh5v1WsgZ4O"
      },
      "source": [
        "# GPU"
      ]
    },
    {
      "cell_type": "code",
      "metadata": {
        "id": "XUzZTsCIgcgs"
      },
      "source": [
        "try:\n",
        "  #--------------------------------------BIBLIOTECAS--------------------------------------#\n",
        "\n",
        "  from datetime import datetime\n",
        "\n",
        "  #Obtencion del tiempo inicial\n",
        "  tiempo_total = datetime.now()\n",
        "\n",
        "  import validators\n",
        "  import sys\n",
        "  import numpy as numpy\n",
        "  import matplotlib.pyplot as plt\n",
        "  from PIL import Image\n",
        "  import pycuda.driver as cuda\n",
        "  import pycuda.autoinit\n",
        "  from pycuda.compiler import SourceModule\n",
        "\n",
        "  %matplotlib inline\n",
        "\n",
        "  from datetime import datetime\n",
        "\n",
        "  url_imagen = \"https://wallpaperaccess.com/full/4910986.jpg\" #@param {type: \"string\" }\n",
        "\n",
        "  #Verificacion de que el usuario haya ingresado una URL de imagen valida\n",
        "  if(url_imagen == \"\" or not validators.url(url_imagen)):\n",
        "    raise TypeError(\"Debe ingresar la url de una imagen.\")\n",
        "\n",
        "  !wget {url_imagen} -O imagen.jpg\n",
        "\n",
        "\n",
        "  tiempo_total = datetime.now()\n",
        "\n",
        "\n",
        "\n",
        "  # --------------------------------------------\n",
        "  # Definición de función que transforma el tiempo en  milisegundos \n",
        "  tiempo_en_ms = lambda dt:(dt.days * 24 * 60 * 60 + dt.seconds) * 1000 + dt.microseconds / 1000.0\n",
        "  # --------------------------------------------\n",
        "\n",
        "  img_nombre = 'imagen.jpg'\n",
        "  image = Image.open( img_nombre ) \n",
        "    \n",
        "  # summarize some details about the image \n",
        "  img_alto, img_ancho = image.size \n",
        "\n",
        "  # Convierto la imagen comprimida en JPEG/PNG a array\n",
        "  img_O_cpu = numpy.asarray(image)\n",
        "  img_R_cpu = numpy.empty_like( img_O_cpu)\n",
        "\n",
        "\n",
        "\n",
        "  # Reservo los 2 vectores en GPU(3 pixeles usa RGB * (el tamaño del array))\n",
        "  img_O_gpu = cuda.mem_alloc( img_O_cpu.nbytes )\n",
        "  img_R_gpu = cuda.mem_alloc( img_R_cpu.nbytes )\n",
        "  # GPU - Copio la memoria al GPU.\n",
        "  cuda.memcpy_htod( img_O_gpu, img_O_cpu )\n",
        "  cuda.memcpy_htod( img_R_gpu, img_R_cpu )\n",
        "\n",
        "  # CPU - Defino la función kernel que ejecutará en GPU.\n",
        "  module = SourceModule(\"\"\"\n",
        "  __global__ void kernel_img( int ancho, int alto, float escala, char *img_O, char *img_R )\n",
        "  {\n",
        "    // Calculo las coordenadas del Thread en dos dimensiones.\n",
        "    int idx = threadIdx.x + blockIdx.x*blockDim.x;\n",
        "    int idy = threadIdx.y + blockIdx.y*blockDim.y;\n",
        "\n",
        "    // Verifico que los Thread, esten dentro de las dimensiones de la imagen.\n",
        "    \n",
        "\n",
        "    if(idx < ancho && idy < alto*escala)\n",
        "    {\n",
        "\n",
        "      // Calculo el color gris para el pixel a partir de los componentes.\n",
        "      int aux=int(((idx+(idy*ancho)))/escala);\n",
        "      img_R[(idx+(idy*ancho))*3  ]=img_O[aux*3];\n",
        "      img_R[(((idx+(idy*ancho))*3)+1 ) ]=img_O[aux*3+1 ];\n",
        "      img_R[(((idx+(idy*ancho))*3)+2)  ]=img_O[aux*3+2 ];\n",
        "    }\n",
        "\n",
        "\n",
        "  }\n",
        "  \"\"\") \n",
        "\n",
        "  # Muestro los atributos de la imagen y como se ve antes del seudo filtro.\n",
        "  print(\"Imagen del filtro: \" + img_nombre + \" -\" + image.mode + \"- [\" + str(img_ancho) + \", \" + str(img_alto ) + \"]\" )  \n",
        "\n",
        "  # CPU - Genero la función kernel.\n",
        "  kernel = module.get_function(\"kernel_img\")\n",
        "\n",
        "  tiempo_img = datetime.now()\n",
        "\n",
        "  dim_hilo_x = 32\n",
        "  dim_bloque_x = numpy.int( (img_ancho+dim_hilo_x-1) / dim_hilo_x )\n",
        "\n",
        "  dim_hilo_y = 19\n",
        "  dim_bloque_y = numpy.int( (img_alto+dim_hilo_y-1) / dim_hilo_y )\n",
        "\n",
        "  print( \"Thread: [\", dim_hilo_x, \",\", dim_hilo_y, \" ], Bloque : [\", dim_bloque_x, \",\", dim_bloque_y, \"]\" )\n",
        "  print( \"Total de Thread: [\", dim_hilo_x*dim_bloque_x, \",\", dim_hilo_y*dim_bloque_y, \" ]\", \" = \", dim_hilo_x*dim_bloque_x*dim_hilo_y*dim_bloque_y )\n",
        "\n",
        "  tiempo_img = datetime.now()\n",
        "  #@title ## 1 Parametros de ejecucion\n",
        "  #@markdown ---\n",
        "  #@markdown ### seleccione la escala de imagen:\n",
        "  escala = 0.2 #@param {type:\"slider\", min:0, max:1, step:0.1}\n",
        "  kernel( numpy.int32(img_ancho), numpy.int32(img_alto), \n",
        "         numpy.float32(escala),img_O_gpu, img_R_gpu, block=( dim_hilo_x, dim_hilo_y, 1 ), grid=(dim_bloque_x, dim_bloque_y,1) )\n",
        "\n",
        "\n",
        "  tiempo_img = datetime.now() - tiempo_img\n",
        "\n",
        "  # GPU - Copio el resultado desde la memoria GPU.\n",
        "  cuda.memcpy_dtoh( img_R_cpu, img_R_gpu )\n",
        "\n",
        "  # Muestro la imagen Original el filtro.\n",
        "  plt.figure()\n",
        "  imgplot=plt.imshow( img_O_cpu )\n",
        "\n",
        "  # Muestro la imagen luego de aplicarle el filtro.\n",
        "  plt.figure()\n",
        "  imgplot=plt.imshow( img_R_cpu[0:int(img_ancho*escala) ,0:int(img_alto*escala)] )\n",
        "  #imgplot=plt.imshow( img_R_cpu)\n",
        "\n",
        "  tiempo_total = datetime.now() - tiempo_total\n",
        "\n",
        "  print(\"Tiempo TOTAL: \", tiempo_en_ms( tiempo_total ), \"[ms]\" )\n",
        "  print(\"Tiempo GPU  : \", tiempo_en_ms( tiempo_img ), \"[ms]\" )\n",
        "\n",
        "except Exception as e:\n",
        "  print(\"Error\", e )\n",
        "  sys.exit()"
      ],
      "execution_count": null,
      "outputs": []
    },
    {
      "cell_type": "markdown",
      "metadata": {
        "id": "lNX8jzs26Dlz"
      },
      "source": [
        "\n",
        "# 4. Métricas\n",
        "\n",
        "Se realizaron las siguientes mediciones:\n",
        "\n",
        "Tiempo GPU | Tiempo CPU \n",
        "-------------------|------------------\n",
        "2.01 ms      | 1187,46 ms\n",
        "0,24 ms       | 1280 ms\n",
        " 0,344 ms     | 1246,72 ms\t \n",
        "0,29 ms       | 1244 ms\n",
        "0,27 ms       | 1280 ms\n",
        "0,26 ms       | 1252,26 ms\n",
        "0,26 ms       | 1240,88 ms\n",
        "0,25 ms       | 1248,30 ms\n",
        "0,27 ms       | 1271 ms\n",
        "0,26 ms       | 1262 ms\n",
        "\n",
        "Tiempo promedio GPU |\tTiempo promedio CPU\n",
        "-------------------|------------------\n",
        "0.44 ms | 1251 ms\n",
        "\n",
        "# 5. Conclusiones\n",
        "\n",
        "Observando las metricas, podemos concluir que el procesamiento de la imagen en GPU se realiza más rapido que en CPU, en promedio 2.840 veces más rapido. Esto se debe a que en GPU se realizan operaciones de manera paralela mientras que en CPU se realizan las operaciones de manera secuencial. En cuanto a la eficacia del algortimo, en CPU es mayor que en GPU debido a la disminucion de la precision de los valores de los pixeles. Se podria mejorar la eficacia del filtro en GPU utilizando distintas dimensiones y valores en la matriz kernel. También, es más dificil de implementar el algoritmo en GPU.\n",
        "\n",
        "# 6. Bibliografía\n",
        "\n",
        "[1] Algoritmo de escala - Towards data science: https://towardsdatascience.com/image-processing-image-scaling-algorithms-ae29aaa6b36c\n",
        "\n",
        "[2] Algoritmo de escala: -OpenCV: https://docs.opencv.org/4.4.0/da/d54/group__imgproc__transform.html#ga47a974309e9102f5f08231edc7e7529d\n",
        "\n",
        "\n",
        "[3] Cuda - Documentación Oficial Nvidia:  https://docs.nvidia.com/cuda/\n",
        "\n",
        "[4] Python basico UNLaM: https://github.com/wvaliente/SOA_HPC/blob/main/Documentos/Python_Basico.ipynb\n"
      ]
    }
  ]
}