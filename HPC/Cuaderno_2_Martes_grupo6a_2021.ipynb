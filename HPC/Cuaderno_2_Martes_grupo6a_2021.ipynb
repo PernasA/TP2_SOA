{
  "nbformat": 4,
  "nbformat_minor": 0,
  "metadata": {
    "colab": {
      "name": "Cuaderno_2_Martes_grupo6a_2021.ipynb",
      "provenance": [],
      "collapsed_sections": [],
      "authorship_tag": "ABX9TyMmfzcIvQV6FjmrSwLYv0ZG",
      "include_colab_link": true
    },
    "kernelspec": {
      "name": "python3",
      "display_name": "Python 3"
    },
    "language_info": {
      "name": "python"
    },
    "accelerator": "GPU"
  },
  "cells": [
    {
      "cell_type": "markdown",
      "metadata": {
        "id": "view-in-github",
        "colab_type": "text"
      },
      "source": [
        "<a href=\"https://colab.research.google.com/github/PernasA/TP2_SOA/blob/master/HPC/Cuaderno_2_Martes_grupo6a_2021.ipynb\" target=\"_parent\"><img src=\"https://colab.research.google.com/assets/colab-badge.svg\" alt=\"Open In Colab\"/></a>"
      ]
    },
    {
      "cell_type": "markdown",
      "metadata": {
        "id": "EKrwBVk-OuKG"
      },
      "source": [
        "\n",
        "### 1. Introducción\n",
        "\n",
        "El Ejercicio 2 del TP3 tiene como objetivo probar la diferencia de velocidad de procesamiento que hay entre procesamiento secuencial y binario con paralelo. Para ello, se generará un vector con valores enteros que progresan aleatoriamente entre 1 y 3 valores. Esto quiere decir que, a medida que avanzan las posiciones del vector, cada vez los valores van a ser más grandes. Se pedirá al usuario que defina el tamaño del mismo. También se le solicitará que ingrese el número que se quiere buscar en el vector.\n",
        "Con estos datos, el programa buscará al elemento y si lo encuentra dirá cuál fue la posición donde apareció. El número a buscar puede aparecer o una o ninguna vez (depende de la aleatoriedad de la creación del vector).\n",
        "\n",
        "### 2. Armado del ambiente\n"
      ]
    },
    {
      "cell_type": "code",
      "metadata": {
        "colab": {
          "base_uri": "https://localhost:8080/"
        },
        "id": "zBM6F3XU7mut",
        "outputId": "0a93880c-c5fb-4faa-9f11-5fe3f2ecd362"
      },
      "source": [
        "#Instalacion de la biblioteca 'PYCUDA'\n",
        "!pip install pycuda"
      ],
      "execution_count": 1,
      "outputs": [
        {
          "output_type": "stream",
          "name": "stdout",
          "text": [
            "Collecting pycuda\n",
            "  Downloading pycuda-2021.1.tar.gz (1.7 MB)\n",
            "\u001b[?25l\r\u001b[K     |▏                               | 10 kB 18.9 MB/s eta 0:00:01\r\u001b[K     |▍                               | 20 kB 21.9 MB/s eta 0:00:01\r\u001b[K     |▋                               | 30 kB 22.1 MB/s eta 0:00:01\r\u001b[K     |▉                               | 40 kB 20.2 MB/s eta 0:00:01\r\u001b[K     |█                               | 51 kB 15.1 MB/s eta 0:00:01\r\u001b[K     |█▏                              | 61 kB 12.5 MB/s eta 0:00:01\r\u001b[K     |█▍                              | 71 kB 13.1 MB/s eta 0:00:01\r\u001b[K     |█▋                              | 81 kB 14.1 MB/s eta 0:00:01\r\u001b[K     |█▊                              | 92 kB 14.4 MB/s eta 0:00:01\r\u001b[K     |██                              | 102 kB 11.1 MB/s eta 0:00:01\r\u001b[K     |██▏                             | 112 kB 11.1 MB/s eta 0:00:01\r\u001b[K     |██▍                             | 122 kB 11.1 MB/s eta 0:00:01\r\u001b[K     |██▌                             | 133 kB 11.1 MB/s eta 0:00:01\r\u001b[K     |██▊                             | 143 kB 11.1 MB/s eta 0:00:01\r\u001b[K     |███                             | 153 kB 11.1 MB/s eta 0:00:01\r\u001b[K     |███▏                            | 163 kB 11.1 MB/s eta 0:00:01\r\u001b[K     |███▎                            | 174 kB 11.1 MB/s eta 0:00:01\r\u001b[K     |███▌                            | 184 kB 11.1 MB/s eta 0:00:01\r\u001b[K     |███▊                            | 194 kB 11.1 MB/s eta 0:00:01\r\u001b[K     |████                            | 204 kB 11.1 MB/s eta 0:00:01\r\u001b[K     |████                            | 215 kB 11.1 MB/s eta 0:00:01\r\u001b[K     |████▎                           | 225 kB 11.1 MB/s eta 0:00:01\r\u001b[K     |████▌                           | 235 kB 11.1 MB/s eta 0:00:01\r\u001b[K     |████▊                           | 245 kB 11.1 MB/s eta 0:00:01\r\u001b[K     |████▉                           | 256 kB 11.1 MB/s eta 0:00:01\r\u001b[K     |█████                           | 266 kB 11.1 MB/s eta 0:00:01\r\u001b[K     |█████▎                          | 276 kB 11.1 MB/s eta 0:00:01\r\u001b[K     |█████▌                          | 286 kB 11.1 MB/s eta 0:00:01\r\u001b[K     |█████▋                          | 296 kB 11.1 MB/s eta 0:00:01\r\u001b[K     |█████▉                          | 307 kB 11.1 MB/s eta 0:00:01\r\u001b[K     |██████                          | 317 kB 11.1 MB/s eta 0:00:01\r\u001b[K     |██████▎                         | 327 kB 11.1 MB/s eta 0:00:01\r\u001b[K     |██████▍                         | 337 kB 11.1 MB/s eta 0:00:01\r\u001b[K     |██████▋                         | 348 kB 11.1 MB/s eta 0:00:01\r\u001b[K     |██████▉                         | 358 kB 11.1 MB/s eta 0:00:01\r\u001b[K     |███████                         | 368 kB 11.1 MB/s eta 0:00:01\r\u001b[K     |███████▏                        | 378 kB 11.1 MB/s eta 0:00:01\r\u001b[K     |███████▍                        | 389 kB 11.1 MB/s eta 0:00:01\r\u001b[K     |███████▋                        | 399 kB 11.1 MB/s eta 0:00:01\r\u001b[K     |███████▉                        | 409 kB 11.1 MB/s eta 0:00:01\r\u001b[K     |████████                        | 419 kB 11.1 MB/s eta 0:00:01\r\u001b[K     |████████▏                       | 430 kB 11.1 MB/s eta 0:00:01\r\u001b[K     |████████▍                       | 440 kB 11.1 MB/s eta 0:00:01\r\u001b[K     |████████▋                       | 450 kB 11.1 MB/s eta 0:00:01\r\u001b[K     |████████▊                       | 460 kB 11.1 MB/s eta 0:00:01\r\u001b[K     |█████████                       | 471 kB 11.1 MB/s eta 0:00:01\r\u001b[K     |█████████▏                      | 481 kB 11.1 MB/s eta 0:00:01\r\u001b[K     |█████████▍                      | 491 kB 11.1 MB/s eta 0:00:01\r\u001b[K     |█████████▌                      | 501 kB 11.1 MB/s eta 0:00:01\r\u001b[K     |█████████▊                      | 512 kB 11.1 MB/s eta 0:00:01\r\u001b[K     |██████████                      | 522 kB 11.1 MB/s eta 0:00:01\r\u001b[K     |██████████▏                     | 532 kB 11.1 MB/s eta 0:00:01\r\u001b[K     |██████████▎                     | 542 kB 11.1 MB/s eta 0:00:01\r\u001b[K     |██████████▌                     | 552 kB 11.1 MB/s eta 0:00:01\r\u001b[K     |██████████▊                     | 563 kB 11.1 MB/s eta 0:00:01\r\u001b[K     |███████████                     | 573 kB 11.1 MB/s eta 0:00:01\r\u001b[K     |███████████                     | 583 kB 11.1 MB/s eta 0:00:01\r\u001b[K     |███████████▎                    | 593 kB 11.1 MB/s eta 0:00:01\r\u001b[K     |███████████▌                    | 604 kB 11.1 MB/s eta 0:00:01\r\u001b[K     |███████████▊                    | 614 kB 11.1 MB/s eta 0:00:01\r\u001b[K     |███████████▉                    | 624 kB 11.1 MB/s eta 0:00:01\r\u001b[K     |████████████                    | 634 kB 11.1 MB/s eta 0:00:01\r\u001b[K     |████████████▎                   | 645 kB 11.1 MB/s eta 0:00:01\r\u001b[K     |████████████▌                   | 655 kB 11.1 MB/s eta 0:00:01\r\u001b[K     |████████████▋                   | 665 kB 11.1 MB/s eta 0:00:01\r\u001b[K     |████████████▉                   | 675 kB 11.1 MB/s eta 0:00:01\r\u001b[K     |█████████████                   | 686 kB 11.1 MB/s eta 0:00:01\r\u001b[K     |█████████████▎                  | 696 kB 11.1 MB/s eta 0:00:01\r\u001b[K     |█████████████▍                  | 706 kB 11.1 MB/s eta 0:00:01\r\u001b[K     |█████████████▋                  | 716 kB 11.1 MB/s eta 0:00:01\r\u001b[K     |█████████████▉                  | 727 kB 11.1 MB/s eta 0:00:01\r\u001b[K     |██████████████                  | 737 kB 11.1 MB/s eta 0:00:01\r\u001b[K     |██████████████▏                 | 747 kB 11.1 MB/s eta 0:00:01\r\u001b[K     |██████████████▍                 | 757 kB 11.1 MB/s eta 0:00:01\r\u001b[K     |██████████████▋                 | 768 kB 11.1 MB/s eta 0:00:01\r\u001b[K     |██████████████▉                 | 778 kB 11.1 MB/s eta 0:00:01\r\u001b[K     |███████████████                 | 788 kB 11.1 MB/s eta 0:00:01\r\u001b[K     |███████████████▏                | 798 kB 11.1 MB/s eta 0:00:01\r\u001b[K     |███████████████▍                | 808 kB 11.1 MB/s eta 0:00:01\r\u001b[K     |███████████████▋                | 819 kB 11.1 MB/s eta 0:00:01\r\u001b[K     |███████████████▊                | 829 kB 11.1 MB/s eta 0:00:01\r\u001b[K     |████████████████                | 839 kB 11.1 MB/s eta 0:00:01\r\u001b[K     |████████████████▏               | 849 kB 11.1 MB/s eta 0:00:01\r\u001b[K     |████████████████▍               | 860 kB 11.1 MB/s eta 0:00:01\r\u001b[K     |████████████████▌               | 870 kB 11.1 MB/s eta 0:00:01\r\u001b[K     |████████████████▊               | 880 kB 11.1 MB/s eta 0:00:01\r\u001b[K     |█████████████████               | 890 kB 11.1 MB/s eta 0:00:01\r\u001b[K     |█████████████████▏              | 901 kB 11.1 MB/s eta 0:00:01\r\u001b[K     |█████████████████▍              | 911 kB 11.1 MB/s eta 0:00:01\r\u001b[K     |█████████████████▌              | 921 kB 11.1 MB/s eta 0:00:01\r\u001b[K     |█████████████████▊              | 931 kB 11.1 MB/s eta 0:00:01\r\u001b[K     |██████████████████              | 942 kB 11.1 MB/s eta 0:00:01\r\u001b[K     |██████████████████▏             | 952 kB 11.1 MB/s eta 0:00:01\r\u001b[K     |██████████████████▎             | 962 kB 11.1 MB/s eta 0:00:01\r\u001b[K     |██████████████████▌             | 972 kB 11.1 MB/s eta 0:00:01\r\u001b[K     |██████████████████▊             | 983 kB 11.1 MB/s eta 0:00:01\r\u001b[K     |███████████████████             | 993 kB 11.1 MB/s eta 0:00:01\r\u001b[K     |███████████████████             | 1.0 MB 11.1 MB/s eta 0:00:01\r\u001b[K     |███████████████████▎            | 1.0 MB 11.1 MB/s eta 0:00:01\r\u001b[K     |███████████████████▌            | 1.0 MB 11.1 MB/s eta 0:00:01\r\u001b[K     |███████████████████▊            | 1.0 MB 11.1 MB/s eta 0:00:01\r\u001b[K     |███████████████████▉            | 1.0 MB 11.1 MB/s eta 0:00:01\r\u001b[K     |████████████████████            | 1.1 MB 11.1 MB/s eta 0:00:01\r\u001b[K     |████████████████████▎           | 1.1 MB 11.1 MB/s eta 0:00:01\r\u001b[K     |████████████████████▌           | 1.1 MB 11.1 MB/s eta 0:00:01\r\u001b[K     |████████████████████▋           | 1.1 MB 11.1 MB/s eta 0:00:01\r\u001b[K     |████████████████████▉           | 1.1 MB 11.1 MB/s eta 0:00:01\r\u001b[K     |█████████████████████           | 1.1 MB 11.1 MB/s eta 0:00:01\r\u001b[K     |█████████████████████▎          | 1.1 MB 11.1 MB/s eta 0:00:01\r\u001b[K     |█████████████████████▍          | 1.1 MB 11.1 MB/s eta 0:00:01\r\u001b[K     |█████████████████████▋          | 1.1 MB 11.1 MB/s eta 0:00:01\r\u001b[K     |█████████████████████▉          | 1.1 MB 11.1 MB/s eta 0:00:01\r\u001b[K     |██████████████████████          | 1.2 MB 11.1 MB/s eta 0:00:01\r\u001b[K     |██████████████████████▏         | 1.2 MB 11.1 MB/s eta 0:00:01\r\u001b[K     |██████████████████████▍         | 1.2 MB 11.1 MB/s eta 0:00:01\r\u001b[K     |██████████████████████▋         | 1.2 MB 11.1 MB/s eta 0:00:01\r\u001b[K     |██████████████████████▉         | 1.2 MB 11.1 MB/s eta 0:00:01\r\u001b[K     |███████████████████████         | 1.2 MB 11.1 MB/s eta 0:00:01\r\u001b[K     |███████████████████████▏        | 1.2 MB 11.1 MB/s eta 0:00:01\r\u001b[K     |███████████████████████▍        | 1.2 MB 11.1 MB/s eta 0:00:01\r\u001b[K     |███████████████████████▋        | 1.2 MB 11.1 MB/s eta 0:00:01\r\u001b[K     |███████████████████████▊        | 1.2 MB 11.1 MB/s eta 0:00:01\r\u001b[K     |████████████████████████        | 1.3 MB 11.1 MB/s eta 0:00:01\r\u001b[K     |████████████████████████▏       | 1.3 MB 11.1 MB/s eta 0:00:01\r\u001b[K     |████████████████████████▍       | 1.3 MB 11.1 MB/s eta 0:00:01\r\u001b[K     |████████████████████████▌       | 1.3 MB 11.1 MB/s eta 0:00:01\r\u001b[K     |████████████████████████▊       | 1.3 MB 11.1 MB/s eta 0:00:01\r\u001b[K     |█████████████████████████       | 1.3 MB 11.1 MB/s eta 0:00:01\r\u001b[K     |█████████████████████████▏      | 1.3 MB 11.1 MB/s eta 0:00:01\r\u001b[K     |█████████████████████████▎      | 1.3 MB 11.1 MB/s eta 0:00:01\r\u001b[K     |█████████████████████████▌      | 1.3 MB 11.1 MB/s eta 0:00:01\r\u001b[K     |█████████████████████████▊      | 1.4 MB 11.1 MB/s eta 0:00:01\r\u001b[K     |██████████████████████████      | 1.4 MB 11.1 MB/s eta 0:00:01\r\u001b[K     |██████████████████████████      | 1.4 MB 11.1 MB/s eta 0:00:01\r\u001b[K     |██████████████████████████▎     | 1.4 MB 11.1 MB/s eta 0:00:01\r\u001b[K     |██████████████████████████▌     | 1.4 MB 11.1 MB/s eta 0:00:01\r\u001b[K     |██████████████████████████▊     | 1.4 MB 11.1 MB/s eta 0:00:01\r\u001b[K     |██████████████████████████▉     | 1.4 MB 11.1 MB/s eta 0:00:01\r\u001b[K     |███████████████████████████     | 1.4 MB 11.1 MB/s eta 0:00:01\r\u001b[K     |███████████████████████████▎    | 1.4 MB 11.1 MB/s eta 0:00:01\r\u001b[K     |███████████████████████████▌    | 1.4 MB 11.1 MB/s eta 0:00:01\r\u001b[K     |███████████████████████████▋    | 1.5 MB 11.1 MB/s eta 0:00:01\r\u001b[K     |███████████████████████████▉    | 1.5 MB 11.1 MB/s eta 0:00:01\r\u001b[K     |████████████████████████████    | 1.5 MB 11.1 MB/s eta 0:00:01\r\u001b[K     |████████████████████████████▎   | 1.5 MB 11.1 MB/s eta 0:00:01\r\u001b[K     |████████████████████████████▍   | 1.5 MB 11.1 MB/s eta 0:00:01\r\u001b[K     |████████████████████████████▋   | 1.5 MB 11.1 MB/s eta 0:00:01\r\u001b[K     |████████████████████████████▉   | 1.5 MB 11.1 MB/s eta 0:00:01\r\u001b[K     |█████████████████████████████   | 1.5 MB 11.1 MB/s eta 0:00:01\r\u001b[K     |█████████████████████████████▏  | 1.5 MB 11.1 MB/s eta 0:00:01\r\u001b[K     |█████████████████████████████▍  | 1.5 MB 11.1 MB/s eta 0:00:01\r\u001b[K     |█████████████████████████████▋  | 1.6 MB 11.1 MB/s eta 0:00:01\r\u001b[K     |█████████████████████████████▉  | 1.6 MB 11.1 MB/s eta 0:00:01\r\u001b[K     |██████████████████████████████  | 1.6 MB 11.1 MB/s eta 0:00:01\r\u001b[K     |██████████████████████████████▏ | 1.6 MB 11.1 MB/s eta 0:00:01\r\u001b[K     |██████████████████████████████▍ | 1.6 MB 11.1 MB/s eta 0:00:01\r\u001b[K     |██████████████████████████████▋ | 1.6 MB 11.1 MB/s eta 0:00:01\r\u001b[K     |██████████████████████████████▊ | 1.6 MB 11.1 MB/s eta 0:00:01\r\u001b[K     |███████████████████████████████ | 1.6 MB 11.1 MB/s eta 0:00:01\r\u001b[K     |███████████████████████████████▏| 1.6 MB 11.1 MB/s eta 0:00:01\r\u001b[K     |███████████████████████████████▍| 1.6 MB 11.1 MB/s eta 0:00:01\r\u001b[K     |███████████████████████████████▌| 1.7 MB 11.1 MB/s eta 0:00:01\r\u001b[K     |███████████████████████████████▊| 1.7 MB 11.1 MB/s eta 0:00:01\r\u001b[K     |████████████████████████████████| 1.7 MB 11.1 MB/s eta 0:00:01\r\u001b[K     |████████████████████████████████| 1.7 MB 11.1 MB/s \n",
            "\u001b[?25h  Installing build dependencies ... \u001b[?25l\u001b[?25hdone\n",
            "  Getting requirements to build wheel ... \u001b[?25l\u001b[?25hdone\n",
            "    Preparing wheel metadata ... \u001b[?25l\u001b[?25hdone\n",
            "Collecting pytools>=2011.2\n",
            "  Downloading pytools-2021.2.9.tar.gz (66 kB)\n",
            "\u001b[K     |████████████████████████████████| 66 kB 4.7 MB/s \n",
            "\u001b[?25hRequirement already satisfied: appdirs>=1.4.0 in /usr/local/lib/python3.7/dist-packages (from pycuda) (1.4.4)\n",
            "Collecting mako\n",
            "  Downloading Mako-1.1.6-py2.py3-none-any.whl (75 kB)\n",
            "\u001b[K     |████████████████████████████████| 75 kB 4.0 MB/s \n",
            "\u001b[?25hRequirement already satisfied: numpy>=1.6.0 in /usr/local/lib/python3.7/dist-packages (from pytools>=2011.2->pycuda) (1.19.5)\n",
            "Requirement already satisfied: MarkupSafe>=0.9.2 in /usr/local/lib/python3.7/dist-packages (from mako->pycuda) (2.0.1)\n",
            "Building wheels for collected packages: pycuda, pytools\n",
            "  Building wheel for pycuda (PEP 517) ... \u001b[?25l\u001b[?25hdone\n",
            "  Created wheel for pycuda: filename=pycuda-2021.1-cp37-cp37m-linux_x86_64.whl size=627577 sha256=30dc941c62aa742f9de296960fe8493ec4c805d7b7a75c8223c8cce2165ced12\n",
            "  Stored in directory: /root/.cache/pip/wheels/c4/ef/49/dc6a5feb8d980b37c83d465ecab24949a6aa19458522a9e001\n",
            "  Building wheel for pytools (setup.py) ... \u001b[?25l\u001b[?25hdone\n",
            "  Created wheel for pytools: filename=pytools-2021.2.9-py2.py3-none-any.whl size=62370 sha256=27c78efa1e4c992068f5df26c7c786b53c7df1098b7fc413b8587c1fed2f8220\n",
            "  Stored in directory: /root/.cache/pip/wheels/41/b9/6e/94bb014f6484b15ec77e7877f3a227609481ffd98db364504d\n",
            "Successfully built pycuda pytools\n",
            "Installing collected packages: pytools, mako, pycuda\n",
            "Successfully installed mako-1.1.6 pycuda-2021.1 pytools-2021.2.9\n"
          ]
        }
      ]
    },
    {
      "cell_type": "code",
      "metadata": {
        "id": "9HmEDSAeWKpJ",
        "colab": {
          "base_uri": "https://localhost:8080/"
        },
        "outputId": "f39c2f81-6663-4f93-95c7-afb6ea7b9c93"
      },
      "source": [
        " try:\n",
        "  import numpy\n",
        "  #Genero un formulario para que el usuario pueda seleccionar las variables\n",
        "  #@markdown ### Seleccione el tamaño del vector:\n",
        "  tam_vector = 10 #@param {type:\"slider\", min:1, max:200000, step:10}\n",
        "  #@markdown ---\n",
        "  #@markdown ### Seleccione el número a buscar:\n",
        "  nro_a_buscar = 10 #@param {type:\"slider\", min:0, max:100000, step:1}\n",
        "\n",
        "  #Cargo en un vector del tamaño ingresado elementos que aumentan\n",
        "  #aleatoriamente entre 1 y 3 valores.\n",
        "  vector_cpu= numpy.empty([tam_vector], dtype=int)\n",
        "  acumulador = 0\n",
        "  for number in range(tam_vector):\n",
        "    valorRandom = numpy.random.randint(1,4, size = 1)\n",
        "    acumulador += valorRandom\n",
        "    vector_cpu[number] =  acumulador\n",
        "\n",
        "  #Muestro el vector para una mayor comprension del ejercicio  \n",
        "  print(\"El vector es: \",vector_cpu.tolist())\n",
        "except Exception as e:\n",
        "  print(\"Error\", e )\n",
        "  sys.exit()"
      ],
      "execution_count": 8,
      "outputs": [
        {
          "output_type": "stream",
          "name": "stdout",
          "text": [
            "El vector es:  [2, 5, 7, 10, 11, 13, 16, 17, 18, 19]\n"
          ]
        }
      ]
    },
    {
      "cell_type": "markdown",
      "metadata": {
        "id": "t3IywKY4f_T5"
      },
      "source": [
        "### 3. Desarrollo\n",
        "# CPU - Búsqueda Secuencial\n"
      ]
    },
    {
      "cell_type": "code",
      "metadata": {
        "id": "usyxvldvgHiN",
        "colab": {
          "base_uri": "https://localhost:8080/"
        },
        "cellView": "code",
        "outputId": "7894b7dd-1a08-400a-9d60-88f92dd724cc"
      },
      "source": [
        "#--------------------------------------BIBLIOTECAS--------------------------------------#\n",
        "import matplotlib.pyplot as plt\n",
        "from datetime import datetime\n",
        "\n",
        "import sys\n",
        "try:\n",
        "  #@title Ingrese la url de una imagen:\n",
        "  #Obtencion del tiempo inicial\n",
        "  tiempo_total = datetime.now()\n",
        "  \n",
        "  #Declaracion de funcion que realiza el pasaje del tiempo obtenido mediante datetime.now(), a milisegundos.\n",
        "  tiempo_en_ms = lambda dt:(dt.days * 24 * 60 * 60 + dt.seconds) * 1000 + dt.microseconds / 1000.0\n",
        "\n",
        "  #---------------------------------------CODIGO--------------------------------------------#  \n",
        "\n",
        "  tiempo_cpu = datetime.now()\n",
        "\n",
        "  #Aplico el algoritmo de búsqueda secuencial\n",
        "  aparicion = -1\n",
        "  contador = 0\n",
        "  while contador < len(vector_cpu):\n",
        "    if(vector_cpu[contador] == nro_a_buscar):\n",
        "      aparicion = contador+1\n",
        "      contador = len(vector_cpu)+1\n",
        "    elif vector_cpu[contador]> nro_a_buscar:\n",
        "      contador = len(vector_cpu)+1\n",
        "    contador += 1\n",
        "\n",
        "  #Muestro los resultados obtenidos\n",
        "  print( \"Cantidad de elementos:\", len(vector_cpu) )\n",
        "  print(\"Tiempo CPU - Búsqueda Secuencial:\", tiempo_en_ms( datetime.now() - tiempo_cpu   ), \"[ms]\" )\n",
        "\n",
        "  if aparicion != -1:\n",
        "    print(\"Se encontró por CPU el valor:\",nro_a_buscar)\n",
        "    print(\"La posición donde aparece es:\", aparicion)\n",
        "  else:\n",
        "    print(\"No se encontró por CPU el valor:\",nro_a_buscar)\n",
        "\n",
        "  #Calculo del tiempo total de ejecucion del programa\n",
        "  tiempo_total = datetime.now() - tiempo_total\n",
        "\n",
        "  print(\"Tiempo total de ejecucion: \", tiempo_en_ms( tiempo_total ), \"[ms]\" )\n",
        "\n",
        "except Exception as e:\n",
        "  print(\"Error\", e )\n",
        "  sys.exit()"
      ],
      "execution_count": 30,
      "outputs": [
        {
          "output_type": "stream",
          "name": "stdout",
          "text": [
            "Cantidad de elementos: 10\n",
            "Tiempo CPU - Búsqueda Secuencial: 0.259 [ms]\n",
            "Se encontró por CPU el valor: 10\n",
            "La posición donde aparece es: 4\n",
            "Tiempo total de ejecucion:  0.528 [ms]\n"
          ]
        }
      ]
    },
    {
      "cell_type": "markdown",
      "metadata": {
        "id": "hMSn1Fw5_25m"
      },
      "source": [
        "# CPU - Búsqueda Binaria"
      ]
    },
    {
      "cell_type": "code",
      "metadata": {
        "colab": {
          "base_uri": "https://localhost:8080/"
        },
        "id": "liNodae2ADPz",
        "outputId": "a8fbf013-ffa8-489d-c682-af5aafde77a9"
      },
      "source": [
        "#--------------------------------------BIBLIOTECAS--------------------------------------#\n",
        "import matplotlib.pyplot as plt\n",
        "from datetime import datetime\n",
        "import numpy\n",
        "import sys\n",
        "try:\n",
        "  #Obtencion del tiempo inicial\n",
        "  tiempo_total = datetime.now()\n",
        "  \n",
        "  #Declaracion de funcion que realiza el pasaje del tiempo obtenido mediante datetime.now(), a milisegundos.\n",
        "  tiempo_en_ms = lambda dt:(dt.days * 24 * 60 * 60 + dt.seconds) * 1000 + dt.microseconds / 1000.0\n",
        "\n",
        "  #---------------------------------------CODIGO--------------------------------------------#\n",
        "  # Definimos el vector y lo cargamos con valores aleatorios del 0 al 100\n",
        "\n",
        "  tiempo_cpu = datetime.now()\n",
        "\n",
        "   #Aplico el algoritmo de búsqueda binaria con comentarios en ingles obtenidos de la bibliografía.\n",
        "  aparicion = -1\n",
        "  contador = 1\n",
        "\n",
        "  # Start with the entire sequence of elements.\n",
        "  low = 0\n",
        "  high = len(vector_cpu) - 1\n",
        "  # Repeatedly subdivide the sequence in half until the nro_a_buscar is found.\n",
        "  while low <= high :\n",
        "    # Find the midpoint of the sequence.\n",
        "    mid = (high + low) // 2\n",
        "    # Does the midpoint contain the nro_a_buscar?\n",
        "    if vector_cpu[mid] == nro_a_buscar :\n",
        "      aparicion = mid+1\n",
        "      low = high + 1\n",
        "    # Or does the nro_a_buscar precede the midpoint?\n",
        "    elif nro_a_buscar < vector_cpu[mid] :\n",
        "      high = mid - 1\n",
        "    # Or does it nro_a_buscar the midpoint?\n",
        "    else :\n",
        "      low = mid + 1\n",
        "\n",
        "  #Muestro los resultados y tiempos obtenidos\n",
        "  print( \"Cantidad de elementos:\", len(vector_cpu) )\n",
        "  print(\"Tiempo CPU - Búsqueda Binaria:\", tiempo_en_ms( datetime.now() - tiempo_cpu   ), \"[ms]\" )\n",
        "\n",
        "  if aparicion != -1:\n",
        "    print(\"Se encontró por CPU el valor:\",nro_a_buscar)\n",
        "    print(\"La posición donde aparece es:\", aparicion)\n",
        "  else:\n",
        "    print(\"No se encontró por CPU el valor:\",nro_a_buscar)\n",
        "\n",
        "  #Calculo del tiempo total de ejecucion del programa\n",
        "  tiempo_total = datetime.now() - tiempo_total\n",
        "\n",
        "  print(\"Tiempo total de ejecucion: \", tiempo_en_ms( tiempo_total ), \"[ms]\" )\n",
        "\n",
        "except Exception as e:\n",
        "  print(\"Error\", e )\n",
        "  sys.exit()"
      ],
      "execution_count": 19,
      "outputs": [
        {
          "output_type": "stream",
          "name": "stdout",
          "text": [
            "Cantidad de elementos: 10\n",
            "Tiempo CPU - Búsqueda Binaria: 0.186 [ms]\n",
            "Se encontró por CPU el valor: 10\n",
            "La posición donde aparece es: 4\n",
            "Tiempo total de ejecucion:  1.17 [ms]\n"
          ]
        }
      ]
    },
    {
      "cell_type": "markdown",
      "metadata": {
        "id": "KftbwH-XvUJA"
      },
      "source": [
        "# GPU - Búsqueda Paralelizada"
      ]
    },
    {
      "cell_type": "code",
      "metadata": {
        "id": "3bWB3jOfvmnO",
        "colab": {
          "base_uri": "https://localhost:8080/"
        },
        "outputId": "e4d9b2ca-0cac-4ab2-8024-4ea4bcb6ea87"
      },
      "source": [
        "try:\n",
        "  #Importo las bibliotecas necesarias para la ejecución del ejercicio\n",
        "  %matplotlib inline\n",
        "  from datetime import datetime\n",
        "  tiempo_total = datetime.now()\n",
        "\n",
        "  import matplotlib.pyplot as plt\n",
        "  import sys\n",
        "  import numpy\n",
        "  import pycuda.driver as cuda\n",
        "  import pycuda.autoinit\n",
        "  from pycuda.compiler import SourceModule\n",
        "\n",
        "  tiempo_en_ms = lambda dt:(dt.days * 24 * 60 * 60 + dt.seconds) * 1000 + dt.microseconds / 1000.0\n",
        "\n",
        "  # Defino un vector de un sólo elemento en 0.\n",
        "  valor_aux = numpy.zeros((1,), dtype=int);\n",
        "  valor_aux = valor_aux.astype(numpy.int32())\n",
        "\n",
        "  vector_cpu = vector_cpu.astype(numpy.int32())\n",
        "  vec_pos_cpu= numpy.empty_like(valor_aux)\n",
        "\n",
        "  #Reservo memoria en los vectores de gpu\n",
        "  vec_aparicion_gpu = cuda.mem_alloc(vec_pos_cpu.nbytes)\n",
        "  vector_gpu        = cuda.mem_alloc( vector_cpu.nbytes )\n",
        "\n",
        "  #Copio la memoria al gpu\n",
        "  cuda.memcpy_htod( vec_aparicion_gpu, valor_aux)\n",
        "  cuda.memcpy_htod( vector_gpu, vector_cpu )\n",
        "\n",
        "  # CPU - Defino la función kernel que ejecutará en GPU.\n",
        "  module = SourceModule(\"\"\"\n",
        "  __global__ void kernel( int tam_vector, int *vector, int nro_a_buscar, int *aparicion )\n",
        "  {\n",
        "    int idx = threadIdx.x + blockIdx.x*blockDim.x;\n",
        "    if( idx < tam_vector )\n",
        "    {\n",
        "      if (vector[idx] == nro_a_buscar) {\n",
        "        aparicion[0]=idx +1;\n",
        "      }\n",
        "    }\n",
        "  }\n",
        "  \"\"\")\n",
        "  # CPU - Genero la función kernel.\n",
        "  kernel = module.get_function(\"kernel\")\n",
        "\n",
        "  #Obtengo tiempo anterior a ejecucion en gpu\n",
        "  tiempo_GPU_img = datetime.now()\n",
        "\n",
        "  #Calculo de hilos y bloques\n",
        "  dim_hilo = 1000\n",
        "  dim_bloque = numpy.int( (len(vector_cpu)+dim_hilo-1) / dim_hilo )\n",
        "\n",
        "  # GPU - Ejecuta el kernel.\n",
        "  kernel( numpy.int32(len(vector_cpu)), vector_gpu, \n",
        "          numpy.int32(nro_a_buscar), \n",
        "          vec_aparicion_gpu,\n",
        "          block=( dim_hilo, 1, 1 ),\n",
        "          grid= (dim_bloque, 1, 1) )\n",
        "\n",
        "  #Paso la informacion a cpu\n",
        "  cuda.memcpy_dtoh( vec_pos_cpu, vec_aparicion_gpu )\n",
        "  result= vec_pos_cpu.tolist()\n",
        "\n",
        "  #Muestro los tiempos y resultados obtenidos\n",
        "  tiempo_GPU_img = datetime.now() - tiempo_GPU_img\n",
        "  aparicion = result[0]\n",
        "  print( \"Cantidad de elementos:\", len(vector_cpu) )\n",
        "  print( \"Thread x:\", dim_hilo,\", Bloque x:\", dim_bloque )\n",
        "  print(\"Tiempo GPU - Búsqueda Paralelizada  : \", tiempo_en_ms( tiempo_GPU_img ), \"[ms]\" )\n",
        "  \n",
        "  if aparicion != 0:\n",
        "    print(\"Se encontró por GPU el valor:\",nro_a_buscar)\n",
        "    print(\"La posición donde aparece es:\",aparicion)\n",
        "  else:\n",
        "    print(\"No se encontró por GPU el valor:\",nro_a_buscar)\n",
        "\n",
        "  tiempo_total = datetime.now() - tiempo_total\n",
        "\n",
        "  print(\"Tiempo TOTAL: \", tiempo_en_ms( tiempo_total ), \"[ms]\" )\n",
        "\n",
        "except Exception as e:\n",
        "  print(\"Error: \", e)\n",
        "  sys.exit()"
      ],
      "execution_count": 20,
      "outputs": [
        {
          "output_type": "stream",
          "name": "stdout",
          "text": [
            "Cantidad de elementos: 10\n",
            "Thread x: 1000 , Bloque x: 1\n",
            "Tiempo GPU - Búsqueda Paralelizada  :  0.115 [ms]\n",
            "Se encontró por GPU el valor: 10\n",
            "La posición donde aparece es: 4\n",
            "Tiempo TOTAL:  2.649 [ms]\n"
          ]
        }
      ]
    },
    {
      "cell_type": "markdown",
      "metadata": {
        "id": "ohHjPgTMcF01"
      },
      "source": [
        "# 4. Métricas\n",
        "Hay que aclarar que los métodos de búsqueda secuencial y búsqueda binaria son sensibles a la entrada. En el secuencial, mientras mayor es la nro_a_buscar, ,mucho mayor serán los tiempos de búsqueda. Tanto en búsqueda binaria como en secuencial, si el elemento no se encuentra en el vector sus tiempos serán levemente mayores.\n",
        "\n",
        "Cant Elementos|Nro a buscar|Tiempo CPU - Secuencial | Tiempo CPU - Binaria | Tiempo GPU - Paralelizada\n",
        "--------|------|------------|------------|-------\n",
        "10      |10    |0.26 [ms]  |  0.19 [ms]| 0.115 [ms]  \n",
        "1.000   |100   | 1.0[ms]    |  0.3   [ms]| 0.12 [ms]\n",
        "10.000  |1000  | 1.3   [ms] |  0.5   [ms]| 0.16 [ms]\n",
        "100.000 |100000|240.0 [ms]|    0.9   [ms]| 0.18 [ms]\n",
        "200.000 |50000 |29 [ms] |     1.1  [ms] | 0.18 [ms]\n",
        "200.000 (sin aparicion) |100000|247 [ms] |   1.2    [ms] | 0.2 [ms]\n"
      ]
    },
    {
      "cell_type": "markdown",
      "metadata": {
        "id": "lNX8jzs26Dlz"
      },
      "source": [
        "\n",
        "# 5. Conclusiones\n",
        "\n",
        "Observando las metricas, podemos concluir que los distintos tipos de búsqueda de los elementos en el vector influyen bastante en los tiempos.\n",
        "En primer lugar, tenemos al método de búsqueda secuencial en CPU, que a medida que el número a buscar aumenta, sus tiempos aumentan considerablemente. Luego, con la forma de búsqueda binaria, los tiempos aumentan de forma constante pero mucho menos que los de la búsqueda secuencial.\n",
        "Finalmente, la búsqueda paralelizada utilizando hilos gracias a CUDA, es la mejor de las tres. Se puede ver cómo se mantienen bastante estables los tiempos a pesar de aumentar la cantidad de elementos o el número a buscar. Se puede concluir que utilizar hilos para una búsqueda en un array es la mejor posibilidad, especialmente cuando el tamaño del array es más grande.\n",
        "\n",
        "# 6. Bibliografía\n",
        "\n",
        "[1] Manejo de vectores -Numpy: https://numpy.org/doc/stable/reference/generated/numpy.zeros.html\n",
        "\n",
        "[2] Cuda - Documentación Oficial Nvidia:  https://docs.nvidia.com/cuda/\n",
        "\n",
        "[3] Python basico UNLaM: https://github.com/wvaliente/SOA_HPC/blob/main/Documentos/Python_Basico.ipynb\n",
        "\n",
        "[4] \tD. Munch, «Parallel programming with CUDA. Architecture, Analysis, Application,» Universitat Karlsruhe (TH), Alemania, 2008.\n",
        "\n",
        "[5] \tR. D. Necaise, Data Structures and Algorithms Using Python, EE UU: Jhon Wiley & Sons, Inc, 2011. \n"
      ]
    }
  ]
}