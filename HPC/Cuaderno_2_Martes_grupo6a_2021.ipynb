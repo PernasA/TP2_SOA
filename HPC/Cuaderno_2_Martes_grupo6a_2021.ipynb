{
  "nbformat": 4,
  "nbformat_minor": 0,
  "metadata": {
    "colab": {
      "name": "Cuaderno_2_Martes_grupo6a_2021.ipynb",
      "provenance": [],
      "collapsed_sections": [],
      "authorship_tag": "ABX9TyPRWvTYe/itoIGdGvVnydrr",
      "include_colab_link": true
    },
    "kernelspec": {
      "name": "python3",
      "display_name": "Python 3"
    },
    "language_info": {
      "name": "python"
    },
    "accelerator": "GPU"
  },
  "cells": [
    {
      "cell_type": "markdown",
      "metadata": {
        "id": "view-in-github",
        "colab_type": "text"
      },
      "source": [
        "<a href=\"https://colab.research.google.com/github/PernasA/TP2_SOA/blob/master/HPC/Cuaderno_2_Martes_grupo6a_2021.ipynb\" target=\"_parent\"><img src=\"https://colab.research.google.com/assets/colab-badge.svg\" alt=\"Open In Colab\"/></a>"
      ]
    },
    {
      "cell_type": "markdown",
      "metadata": {
        "id": "EKrwBVk-OuKG"
      },
      "source": [
        "\n",
        "### 1. Introducción\n",
        "\n",
        "El Ejercicio 2 del TP3 tiene como objetivo probar la diferencia de velocidad de procesamiento que hay entre procesamiento secuencial con paralelo. Para ello, se generará un vector con valores enteros aleatorios y se pedirá al usuario que defina el tamaño del mismo. También se le solicitará que ingrese el número que se quiere buscar en el vector.\n",
        "Con estos datos, el programa buscará al elemento y si lo encuentra dirá cuál fue la última posición donde apareció.\n",
        "\n",
        "### 2. Armado del ambiente\n"
      ]
    },
    {
      "cell_type": "code",
      "metadata": {
        "id": "9HmEDSAeWKpJ"
      },
      "source": [
        " #@markdown ### Seleccione el número a buscar:\n",
        " nro_a_buscar = 21 #@param {type:\"slider\", min:0, max:100, step:1}\n",
        "\n",
        "#@markdown ---\n",
        "#@markdown ### Seleccione el tamaño del vector:\n",
        "tam_vector = 200000 #@param {type:\"slider\", min:1, max:200000, step:10}\n"
      ],
      "execution_count": null,
      "outputs": []
    },
    {
      "cell_type": "markdown",
      "metadata": {
        "id": "t3IywKY4f_T5"
      },
      "source": [
        "### 3. Desarrollo\n",
        "# CPU\n"
      ]
    },
    {
      "cell_type": "code",
      "metadata": {
        "id": "usyxvldvgHiN",
        "colab": {
          "base_uri": "https://localhost:8080/"
        },
        "cellView": "code",
        "outputId": "cc26b65d-74dc-4c13-e9f9-65fcd058fe11"
      },
      "source": [
        "#--------------------------------------BIBLIOTECAS--------------------------------------#\n",
        "import matplotlib.pyplot as plt\n",
        "from datetime import datetime\n",
        "import numpy\n",
        "import sys\n",
        "try:\n",
        "\n",
        "  #@title Ingrese la url de una imagen:\n",
        "  #Obtencion del tiempo inicial\n",
        "  tiempo_total = datetime.now()\n",
        "  \n",
        "  #Declaracion de funcion que realiza el pasaje del tiempo obtenido mediante datetime.now(), a milisegundos.\n",
        "  tiempo_en_ms = lambda dt:(dt.days * 24 * 60 * 60 + dt.seconds) * 1000 + dt.microseconds / 1000.0\n",
        "\n",
        "  #---------------------------------------CODIGO--------------------------------------------#\n",
        "  # Definimos el vector y lo cargamos con valores aleatorios del 0 al 100\n",
        "\n",
        "  vector_cpu= numpy.random.randint(0, 100, size = tam_vector)\n",
        "  vector_cpu = vector_cpu.astype(numpy.int32())\n",
        "\n",
        "  #print(\"El vector es: \",vector_cpu.tolist())\n",
        "\n",
        "  tiempo_cpu = datetime.now()\n",
        "\n",
        "  #Algoritmo aplicado en cpu\n",
        "  ultima_aparicion = -1\n",
        "  contador = 1\n",
        "  for numero in vector_cpu:\n",
        "    contador+=1\n",
        "    if numero == nro_a_buscar:\n",
        "      ultima_aparicion += contador\n",
        "\n",
        "\n",
        "\n",
        "  print( \"Cantidad de elementos:\", len(vector_cpu) )\n",
        "  print(\"Tiempo CPU:\", tiempo_en_ms( datetime.now() - tiempo_cpu   ), \"[ms]\" )\n",
        "\n",
        "  if ultima_aparicion != -1:\n",
        "    print(\"Se encontró por CPU el valor:\",nro_a_buscar)\n",
        "    print(\"La última posición donde aparece es:\", ultima_aparicion)\n",
        "  else:\n",
        "    print(\"No se encontró por CPU el valor:\",nro_a_buscar)\n",
        "\n",
        "  #Calculo del tiempo total de procesamiento de la imagen en CPU\n",
        "  tiempo_cpu = datetime.now() - tiempo_cpu\n",
        "\n",
        "  #Calculo del tiempo total de ejecucion del programa\n",
        "  tiempo_total = datetime.now() - tiempo_total\n",
        "\n",
        "  print(\"Tiempo total de ejecucion: \", tiempo_en_ms( tiempo_total ), \"[ms]\" )\n",
        "  print(\"Tiempo de procesamiento en CPU: \", tiempo_en_ms( tiempo_cpu   ), \"[ms]\" )\n",
        "\n",
        "except Exception as e:\n",
        "  print(\"Error\", e )\n",
        "  sys.exit()"
      ],
      "execution_count": null,
      "outputs": [
        {
          "output_type": "stream",
          "name": "stdout",
          "text": [
            "Cantidad de elementos: 200000\n",
            "Tiempo CPU: 732.59 [ms]\n",
            "Se encontró por CPU el valor: 21\n",
            "La última posición donde aparece es: 200708281\n",
            "Tiempo total de ejecucion:  751.101 [ms]\n",
            "Tiempo de procesamiento en CPU:  735.061 [ms]\n"
          ]
        }
      ]
    },
    {
      "cell_type": "markdown",
      "metadata": {
        "id": "KftbwH-XvUJA"
      },
      "source": [
        "# GPU"
      ]
    },
    {
      "cell_type": "code",
      "metadata": {
        "colab": {
          "base_uri": "https://localhost:8080/"
        },
        "id": "MR_CGq9Yvt1s",
        "outputId": "85dbb8cd-f9f9-479e-d895-4c5b42d1594a"
      },
      "source": [
        "!pip install pycuda"
      ],
      "execution_count": null,
      "outputs": [
        {
          "output_type": "stream",
          "name": "stdout",
          "text": [
            "Collecting pycuda\n",
            "  Downloading pycuda-2021.1.tar.gz (1.7 MB)\n",
            "\u001b[?25l\r\u001b[K     |▏                               | 10 kB 15.5 MB/s eta 0:00:01\r\u001b[K     |▍                               | 20 kB 17.3 MB/s eta 0:00:01\r\u001b[K     |▋                               | 30 kB 20.2 MB/s eta 0:00:01\r\u001b[K     |▉                               | 40 kB 21.3 MB/s eta 0:00:01\r\u001b[K     |█                               | 51 kB 21.8 MB/s eta 0:00:01\r\u001b[K     |█▏                              | 61 kB 23.2 MB/s eta 0:00:01\r\u001b[K     |█▍                              | 71 kB 23.5 MB/s eta 0:00:01\r\u001b[K     |█▋                              | 81 kB 23.6 MB/s eta 0:00:01\r\u001b[K     |█▊                              | 92 kB 24.8 MB/s eta 0:00:01\r\u001b[K     |██                              | 102 kB 26.2 MB/s eta 0:00:01\r\u001b[K     |██▏                             | 112 kB 26.2 MB/s eta 0:00:01\r\u001b[K     |██▍                             | 122 kB 26.2 MB/s eta 0:00:01\r\u001b[K     |██▌                             | 133 kB 26.2 MB/s eta 0:00:01\r\u001b[K     |██▊                             | 143 kB 26.2 MB/s eta 0:00:01\r\u001b[K     |███                             | 153 kB 26.2 MB/s eta 0:00:01\r\u001b[K     |███▏                            | 163 kB 26.2 MB/s eta 0:00:01\r\u001b[K     |███▎                            | 174 kB 26.2 MB/s eta 0:00:01\r\u001b[K     |███▌                            | 184 kB 26.2 MB/s eta 0:00:01\r\u001b[K     |███▊                            | 194 kB 26.2 MB/s eta 0:00:01\r\u001b[K     |████                            | 204 kB 26.2 MB/s eta 0:00:01\r\u001b[K     |████                            | 215 kB 26.2 MB/s eta 0:00:01\r\u001b[K     |████▎                           | 225 kB 26.2 MB/s eta 0:00:01\r\u001b[K     |████▌                           | 235 kB 26.2 MB/s eta 0:00:01\r\u001b[K     |████▊                           | 245 kB 26.2 MB/s eta 0:00:01\r\u001b[K     |████▉                           | 256 kB 26.2 MB/s eta 0:00:01\r\u001b[K     |█████                           | 266 kB 26.2 MB/s eta 0:00:01\r\u001b[K     |█████▎                          | 276 kB 26.2 MB/s eta 0:00:01\r\u001b[K     |█████▌                          | 286 kB 26.2 MB/s eta 0:00:01\r\u001b[K     |█████▋                          | 296 kB 26.2 MB/s eta 0:00:01\r\u001b[K     |█████▉                          | 307 kB 26.2 MB/s eta 0:00:01\r\u001b[K     |██████                          | 317 kB 26.2 MB/s eta 0:00:01\r\u001b[K     |██████▎                         | 327 kB 26.2 MB/s eta 0:00:01\r\u001b[K     |██████▍                         | 337 kB 26.2 MB/s eta 0:00:01\r\u001b[K     |██████▋                         | 348 kB 26.2 MB/s eta 0:00:01\r\u001b[K     |██████▉                         | 358 kB 26.2 MB/s eta 0:00:01\r\u001b[K     |███████                         | 368 kB 26.2 MB/s eta 0:00:01\r\u001b[K     |███████▏                        | 378 kB 26.2 MB/s eta 0:00:01\r\u001b[K     |███████▍                        | 389 kB 26.2 MB/s eta 0:00:01\r\u001b[K     |███████▋                        | 399 kB 26.2 MB/s eta 0:00:01\r\u001b[K     |███████▉                        | 409 kB 26.2 MB/s eta 0:00:01\r\u001b[K     |████████                        | 419 kB 26.2 MB/s eta 0:00:01\r\u001b[K     |████████▏                       | 430 kB 26.2 MB/s eta 0:00:01\r\u001b[K     |████████▍                       | 440 kB 26.2 MB/s eta 0:00:01\r\u001b[K     |████████▋                       | 450 kB 26.2 MB/s eta 0:00:01\r\u001b[K     |████████▊                       | 460 kB 26.2 MB/s eta 0:00:01\r\u001b[K     |█████████                       | 471 kB 26.2 MB/s eta 0:00:01\r\u001b[K     |█████████▏                      | 481 kB 26.2 MB/s eta 0:00:01\r\u001b[K     |█████████▍                      | 491 kB 26.2 MB/s eta 0:00:01\r\u001b[K     |█████████▌                      | 501 kB 26.2 MB/s eta 0:00:01\r\u001b[K     |█████████▊                      | 512 kB 26.2 MB/s eta 0:00:01\r\u001b[K     |██████████                      | 522 kB 26.2 MB/s eta 0:00:01\r\u001b[K     |██████████▏                     | 532 kB 26.2 MB/s eta 0:00:01\r\u001b[K     |██████████▎                     | 542 kB 26.2 MB/s eta 0:00:01\r\u001b[K     |██████████▌                     | 552 kB 26.2 MB/s eta 0:00:01\r\u001b[K     |██████████▊                     | 563 kB 26.2 MB/s eta 0:00:01\r\u001b[K     |███████████                     | 573 kB 26.2 MB/s eta 0:00:01\r\u001b[K     |███████████                     | 583 kB 26.2 MB/s eta 0:00:01\r\u001b[K     |███████████▎                    | 593 kB 26.2 MB/s eta 0:00:01\r\u001b[K     |███████████▌                    | 604 kB 26.2 MB/s eta 0:00:01\r\u001b[K     |███████████▊                    | 614 kB 26.2 MB/s eta 0:00:01\r\u001b[K     |███████████▉                    | 624 kB 26.2 MB/s eta 0:00:01\r\u001b[K     |████████████                    | 634 kB 26.2 MB/s eta 0:00:01\r\u001b[K     |████████████▎                   | 645 kB 26.2 MB/s eta 0:00:01\r\u001b[K     |████████████▌                   | 655 kB 26.2 MB/s eta 0:00:01\r\u001b[K     |████████████▋                   | 665 kB 26.2 MB/s eta 0:00:01\r\u001b[K     |████████████▉                   | 675 kB 26.2 MB/s eta 0:00:01\r\u001b[K     |█████████████                   | 686 kB 26.2 MB/s eta 0:00:01\r\u001b[K     |█████████████▎                  | 696 kB 26.2 MB/s eta 0:00:01\r\u001b[K     |█████████████▍                  | 706 kB 26.2 MB/s eta 0:00:01\r\u001b[K     |█████████████▋                  | 716 kB 26.2 MB/s eta 0:00:01\r\u001b[K     |█████████████▉                  | 727 kB 26.2 MB/s eta 0:00:01\r\u001b[K     |██████████████                  | 737 kB 26.2 MB/s eta 0:00:01\r\u001b[K     |██████████████▏                 | 747 kB 26.2 MB/s eta 0:00:01\r\u001b[K     |██████████████▍                 | 757 kB 26.2 MB/s eta 0:00:01\r\u001b[K     |██████████████▋                 | 768 kB 26.2 MB/s eta 0:00:01\r\u001b[K     |██████████████▉                 | 778 kB 26.2 MB/s eta 0:00:01\r\u001b[K     |███████████████                 | 788 kB 26.2 MB/s eta 0:00:01\r\u001b[K     |███████████████▏                | 798 kB 26.2 MB/s eta 0:00:01\r\u001b[K     |███████████████▍                | 808 kB 26.2 MB/s eta 0:00:01\r\u001b[K     |███████████████▋                | 819 kB 26.2 MB/s eta 0:00:01\r\u001b[K     |███████████████▊                | 829 kB 26.2 MB/s eta 0:00:01\r\u001b[K     |████████████████                | 839 kB 26.2 MB/s eta 0:00:01\r\u001b[K     |████████████████▏               | 849 kB 26.2 MB/s eta 0:00:01\r\u001b[K     |████████████████▍               | 860 kB 26.2 MB/s eta 0:00:01\r\u001b[K     |████████████████▌               | 870 kB 26.2 MB/s eta 0:00:01\r\u001b[K     |████████████████▊               | 880 kB 26.2 MB/s eta 0:00:01\r\u001b[K     |█████████████████               | 890 kB 26.2 MB/s eta 0:00:01\r\u001b[K     |█████████████████▏              | 901 kB 26.2 MB/s eta 0:00:01\r\u001b[K     |█████████████████▍              | 911 kB 26.2 MB/s eta 0:00:01\r\u001b[K     |█████████████████▌              | 921 kB 26.2 MB/s eta 0:00:01\r\u001b[K     |█████████████████▊              | 931 kB 26.2 MB/s eta 0:00:01\r\u001b[K     |██████████████████              | 942 kB 26.2 MB/s eta 0:00:01\r\u001b[K     |██████████████████▏             | 952 kB 26.2 MB/s eta 0:00:01\r\u001b[K     |██████████████████▎             | 962 kB 26.2 MB/s eta 0:00:01\r\u001b[K     |██████████████████▌             | 972 kB 26.2 MB/s eta 0:00:01\r\u001b[K     |██████████████████▊             | 983 kB 26.2 MB/s eta 0:00:01\r\u001b[K     |███████████████████             | 993 kB 26.2 MB/s eta 0:00:01\r\u001b[K     |███████████████████             | 1.0 MB 26.2 MB/s eta 0:00:01\r\u001b[K     |███████████████████▎            | 1.0 MB 26.2 MB/s eta 0:00:01\r\u001b[K     |███████████████████▌            | 1.0 MB 26.2 MB/s eta 0:00:01\r\u001b[K     |███████████████████▊            | 1.0 MB 26.2 MB/s eta 0:00:01\r\u001b[K     |███████████████████▉            | 1.0 MB 26.2 MB/s eta 0:00:01\r\u001b[K     |████████████████████            | 1.1 MB 26.2 MB/s eta 0:00:01\r\u001b[K     |████████████████████▎           | 1.1 MB 26.2 MB/s eta 0:00:01\r\u001b[K     |████████████████████▌           | 1.1 MB 26.2 MB/s eta 0:00:01\r\u001b[K     |████████████████████▋           | 1.1 MB 26.2 MB/s eta 0:00:01\r\u001b[K     |████████████████████▉           | 1.1 MB 26.2 MB/s eta 0:00:01\r\u001b[K     |█████████████████████           | 1.1 MB 26.2 MB/s eta 0:00:01\r\u001b[K     |█████████████████████▎          | 1.1 MB 26.2 MB/s eta 0:00:01\r\u001b[K     |█████████████████████▍          | 1.1 MB 26.2 MB/s eta 0:00:01\r\u001b[K     |█████████████████████▋          | 1.1 MB 26.2 MB/s eta 0:00:01\r\u001b[K     |█████████████████████▉          | 1.1 MB 26.2 MB/s eta 0:00:01\r\u001b[K     |██████████████████████          | 1.2 MB 26.2 MB/s eta 0:00:01\r\u001b[K     |██████████████████████▏         | 1.2 MB 26.2 MB/s eta 0:00:01\r\u001b[K     |██████████████████████▍         | 1.2 MB 26.2 MB/s eta 0:00:01\r\u001b[K     |██████████████████████▋         | 1.2 MB 26.2 MB/s eta 0:00:01\r\u001b[K     |██████████████████████▉         | 1.2 MB 26.2 MB/s eta 0:00:01\r\u001b[K     |███████████████████████         | 1.2 MB 26.2 MB/s eta 0:00:01\r\u001b[K     |███████████████████████▏        | 1.2 MB 26.2 MB/s eta 0:00:01\r\u001b[K     |███████████████████████▍        | 1.2 MB 26.2 MB/s eta 0:00:01\r\u001b[K     |███████████████████████▋        | 1.2 MB 26.2 MB/s eta 0:00:01\r\u001b[K     |███████████████████████▊        | 1.2 MB 26.2 MB/s eta 0:00:01\r\u001b[K     |████████████████████████        | 1.3 MB 26.2 MB/s eta 0:00:01\r\u001b[K     |████████████████████████▏       | 1.3 MB 26.2 MB/s eta 0:00:01\r\u001b[K     |████████████████████████▍       | 1.3 MB 26.2 MB/s eta 0:00:01\r\u001b[K     |████████████████████████▌       | 1.3 MB 26.2 MB/s eta 0:00:01\r\u001b[K     |████████████████████████▊       | 1.3 MB 26.2 MB/s eta 0:00:01\r\u001b[K     |█████████████████████████       | 1.3 MB 26.2 MB/s eta 0:00:01\r\u001b[K     |█████████████████████████▏      | 1.3 MB 26.2 MB/s eta 0:00:01\r\u001b[K     |█████████████████████████▎      | 1.3 MB 26.2 MB/s eta 0:00:01\r\u001b[K     |█████████████████████████▌      | 1.3 MB 26.2 MB/s eta 0:00:01\r\u001b[K     |█████████████████████████▊      | 1.4 MB 26.2 MB/s eta 0:00:01\r\u001b[K     |██████████████████████████      | 1.4 MB 26.2 MB/s eta 0:00:01\r\u001b[K     |██████████████████████████      | 1.4 MB 26.2 MB/s eta 0:00:01\r\u001b[K     |██████████████████████████▎     | 1.4 MB 26.2 MB/s eta 0:00:01\r\u001b[K     |██████████████████████████▌     | 1.4 MB 26.2 MB/s eta 0:00:01\r\u001b[K     |██████████████████████████▊     | 1.4 MB 26.2 MB/s eta 0:00:01\r\u001b[K     |██████████████████████████▉     | 1.4 MB 26.2 MB/s eta 0:00:01\r\u001b[K     |███████████████████████████     | 1.4 MB 26.2 MB/s eta 0:00:01\r\u001b[K     |███████████████████████████▎    | 1.4 MB 26.2 MB/s eta 0:00:01\r\u001b[K     |███████████████████████████▌    | 1.4 MB 26.2 MB/s eta 0:00:01\r\u001b[K     |███████████████████████████▋    | 1.5 MB 26.2 MB/s eta 0:00:01\r\u001b[K     |███████████████████████████▉    | 1.5 MB 26.2 MB/s eta 0:00:01\r\u001b[K     |████████████████████████████    | 1.5 MB 26.2 MB/s eta 0:00:01\r\u001b[K     |████████████████████████████▎   | 1.5 MB 26.2 MB/s eta 0:00:01\r\u001b[K     |████████████████████████████▍   | 1.5 MB 26.2 MB/s eta 0:00:01\r\u001b[K     |████████████████████████████▋   | 1.5 MB 26.2 MB/s eta 0:00:01\r\u001b[K     |████████████████████████████▉   | 1.5 MB 26.2 MB/s eta 0:00:01\r\u001b[K     |█████████████████████████████   | 1.5 MB 26.2 MB/s eta 0:00:01\r\u001b[K     |█████████████████████████████▏  | 1.5 MB 26.2 MB/s eta 0:00:01\r\u001b[K     |█████████████████████████████▍  | 1.5 MB 26.2 MB/s eta 0:00:01\r\u001b[K     |█████████████████████████████▋  | 1.6 MB 26.2 MB/s eta 0:00:01\r\u001b[K     |█████████████████████████████▉  | 1.6 MB 26.2 MB/s eta 0:00:01\r\u001b[K     |██████████████████████████████  | 1.6 MB 26.2 MB/s eta 0:00:01\r\u001b[K     |██████████████████████████████▏ | 1.6 MB 26.2 MB/s eta 0:00:01\r\u001b[K     |██████████████████████████████▍ | 1.6 MB 26.2 MB/s eta 0:00:01\r\u001b[K     |██████████████████████████████▋ | 1.6 MB 26.2 MB/s eta 0:00:01\r\u001b[K     |██████████████████████████████▊ | 1.6 MB 26.2 MB/s eta 0:00:01\r\u001b[K     |███████████████████████████████ | 1.6 MB 26.2 MB/s eta 0:00:01\r\u001b[K     |███████████████████████████████▏| 1.6 MB 26.2 MB/s eta 0:00:01\r\u001b[K     |███████████████████████████████▍| 1.6 MB 26.2 MB/s eta 0:00:01\r\u001b[K     |███████████████████████████████▌| 1.7 MB 26.2 MB/s eta 0:00:01\r\u001b[K     |███████████████████████████████▊| 1.7 MB 26.2 MB/s eta 0:00:01\r\u001b[K     |████████████████████████████████| 1.7 MB 26.2 MB/s eta 0:00:01\r\u001b[K     |████████████████████████████████| 1.7 MB 26.2 MB/s \n",
            "\u001b[?25h  Installing build dependencies ... \u001b[?25l\u001b[?25hdone\n",
            "  Getting requirements to build wheel ... \u001b[?25l\u001b[?25hdone\n",
            "    Preparing wheel metadata ... \u001b[?25l\u001b[?25hdone\n",
            "Collecting pytools>=2011.2\n",
            "  Downloading pytools-2021.2.9.tar.gz (66 kB)\n",
            "\u001b[K     |████████████████████████████████| 66 kB 4.6 MB/s \n",
            "\u001b[?25hRequirement already satisfied: appdirs>=1.4.0 in /usr/local/lib/python3.7/dist-packages (from pycuda) (1.4.4)\n",
            "Collecting mako\n",
            "  Downloading Mako-1.1.6-py2.py3-none-any.whl (75 kB)\n",
            "\u001b[K     |████████████████████████████████| 75 kB 3.9 MB/s \n",
            "\u001b[?25hRequirement already satisfied: numpy>=1.6.0 in /usr/local/lib/python3.7/dist-packages (from pytools>=2011.2->pycuda) (1.19.5)\n",
            "Requirement already satisfied: MarkupSafe>=0.9.2 in /usr/local/lib/python3.7/dist-packages (from mako->pycuda) (2.0.1)\n",
            "Building wheels for collected packages: pycuda, pytools\n",
            "  Building wheel for pycuda (PEP 517) ... \u001b[?25l\u001b[?25hdone\n",
            "  Created wheel for pycuda: filename=pycuda-2021.1-cp37-cp37m-linux_x86_64.whl size=627362 sha256=3f1eb713cc4a49acebc70c1fa6fe077ea1ed0e1a4ff0fb6c8e019dc5067a4085\n",
            "  Stored in directory: /root/.cache/pip/wheels/c4/ef/49/dc6a5feb8d980b37c83d465ecab24949a6aa19458522a9e001\n",
            "  Building wheel for pytools (setup.py) ... \u001b[?25l\u001b[?25hdone\n",
            "  Created wheel for pytools: filename=pytools-2021.2.9-py2.py3-none-any.whl size=62370 sha256=c15de90029108cfb8d79ea804df88293ad2b8ad0dda13e6c4629cb55b69911ee\n",
            "  Stored in directory: /root/.cache/pip/wheels/41/b9/6e/94bb014f6484b15ec77e7877f3a227609481ffd98db364504d\n",
            "Successfully built pycuda pytools\n",
            "Installing collected packages: pytools, mako, pycuda\n",
            "Successfully installed mako-1.1.6 pycuda-2021.1 pytools-2021.2.9\n"
          ]
        }
      ]
    },
    {
      "cell_type": "code",
      "metadata": {
        "colab": {
          "base_uri": "https://localhost:8080/",
          "height": 173
        },
        "id": "3bWB3jOfvmnO",
        "outputId": "2fbc2944-824b-4c0a-a33a-a106682d3b49"
      },
      "source": [
        "try:\n",
        "  %matplotlib inline\n",
        "  from datetime import datetime\n",
        "  tiempo_total = datetime.now()\n",
        "\n",
        "  import matplotlib.pyplot as plt\n",
        "  import sys\n",
        "  import numpy\n",
        "  import pycuda.driver as cuda\n",
        "  import pycuda.autoinit\n",
        "  from pycuda.compiler import SourceModule\n",
        "\n",
        "  tiempo_en_ms = lambda dt:(dt.days * 24 * 60 * 60 + dt.seconds) * 1000 + dt.microseconds / 1000.0\n",
        "\n",
        "  # Definimos el vector y lo cargamos con valores aleatorios del 0 al 100\n",
        "  valor_aux = numpy.zeros((tam_vector,), dtype=int);\n",
        "  valor_aux = valor_aux.astype(numpy.int32())\n",
        "\n",
        "  vector_cpu= numpy.random.randint(0, 100, size = tam_vector)\n",
        "\n",
        "  vector_cpu = vector_cpu.astype(numpy.int32())\n",
        "\n",
        "  vec_ult_pos_cpu= numpy.empty_like(valor_aux)\n",
        "\n",
        "  #Reservo memoria en los vectores de gpu\n",
        "  vec_ult_aparicion_gpu = cuda.mem_alloc(vec_ult_pos_cpu.nbytes)\n",
        "  vector_gpu               = cuda.mem_alloc( vector_cpu.nbytes )\n",
        "\n",
        "  #Copio la memoria al gpu\n",
        "  cuda.memcpy_htod( vec_ult_aparicion_gpu, valor_aux)\n",
        "  cuda.memcpy_htod( vector_gpu, vector_cpu )\n",
        "\n",
        "  # CPU - Defino la función kernel que ejecutará en GPU.\n",
        "  module = SourceModule(\"\"\"\n",
        "  __global__ void kernel_axpy( int tam_vector, int *vector, int nro_a_buscar, int *cant_apariciones )\n",
        "  {\n",
        "    int idx = threadIdx.x + blockIdx.x*blockDim.x;\n",
        "    if( idx < tam_vector )\n",
        "    {\n",
        "      if (vector[idx] == nro_a_buscar) {\n",
        "        cant_apariciones[idx]+=1;\n",
        "      }\n",
        "    }\n",
        "  }\n",
        "  \"\"\")\n",
        "  # CPU - Genero la función kernel.\n",
        "  kernel = module.get_function(\"kernel_axpy\")\n",
        "\n",
        "  tiempo_GPU_img = datetime.now()\n",
        "\n",
        "  # GPU - Ejecuta el kernel.\n",
        "  # TODO: Falta consultar limites del GPU, para armar las dimensiones correctamente.\n",
        "  dim_hilo = 100\n",
        "  dim_bloque = numpy.int( (len(vector_cpu)+dim_hilo-1) / dim_hilo )\n",
        "\n",
        "  #print(\"el vector de cpu es: \",vector_cpu.tolist())\n",
        "\n",
        "  #TODO: Ojo, con los tipos de las variables en el kernel.\n",
        "  kernel( numpy.int32(len(vector_cpu)), vector_gpu, \n",
        "          numpy.int32(nro_a_buscar), \n",
        "          vec_ult_aparicion_gpu,\n",
        "          block=( dim_hilo, 1, 1 ),\n",
        "          grid= (dim_bloque, 1, 1) )\n",
        "\n",
        "  cuda.memcpy_dtoh( vec_ult_pos_cpu, vec_ult_aparicion_gpu )\n",
        "\n",
        "  result= vec_ult_pos_cpu.tolist()\n",
        "  #print(\"el vector resultado es: \",result)\n",
        "\n",
        "\n",
        "  print( \"Cantidad de elementos:\", len(vector_cpu) )\n",
        "  print( \"Thread x:\", dim_hilo,\", Bloque x:\", dim_bloque )\n",
        "\n",
        "  ult_posicion = -1\n",
        "  contador_fin = 1\n",
        "  for numero in result:\n",
        "    contador_fin += 1\n",
        "    if numero == 1:\n",
        "      ult_posicion = contador_fin\n",
        "\n",
        "  if ult_posicion != -1:\n",
        "    print(\"Se encontró por GPU el valor:\",nro_a_buscar)\n",
        "    print(\"La última posición donde aparece es:\",ult_posicion)\n",
        "  else:\n",
        "    print(\"No se encontró por GPU el valor:\",nro_a_buscar)\n",
        "\n",
        "  tiempo_GPU_img = datetime.now() - tiempo_GPU_img\n",
        "\n",
        "  tiempo_total = datetime.now() - tiempo_total\n",
        "\n",
        "  print(\"Tiempo TOTAL: \", tiempo_en_ms( tiempo_total ), \"[ms]\" )\n",
        "  print(\"Tiempo GPU  : \", tiempo_en_ms( tiempo_GPU_img ), \"[ms]\" )\n",
        "except Exception as e:\n",
        "   print(\"Error: \", e)\n",
        "   sys.exit()"
      ],
      "execution_count": null,
      "outputs": [
        {
          "output_type": "stream",
          "name": "stdout",
          "text": [
            "Error:  cuInit failed: no CUDA-capable device is detected\n"
          ]
        },
        {
          "output_type": "error",
          "ename": "SystemExit",
          "evalue": "ignored",
          "traceback": [
            "An exception has occurred, use %tb to see the full traceback.\n",
            "\u001b[0;31mSystemExit\u001b[0m\n"
          ]
        },
        {
          "output_type": "stream",
          "name": "stderr",
          "text": [
            "/usr/local/lib/python3.7/dist-packages/IPython/core/interactiveshell.py:2890: UserWarning: To exit: use 'exit', 'quit', or Ctrl-D.\n",
            "  warn(\"To exit: use 'exit', 'quit', or Ctrl-D.\", stacklevel=1)\n"
          ]
        }
      ]
    },
    {
      "cell_type": "markdown",
      "metadata": {
        "id": "ohHjPgTMcF01"
      },
      "source": [
        "# 4. Métricas\n",
        "\n",
        "Cant Elementos|Tiempo GPU | Tiempo CPU \n",
        "--------|-----------|------------------\n",
        "10|2.934 [ms]      | 2.274 [ms]\n",
        "1.000| 3.411[ms]     | 3.509 [ms]\n",
        "10.000| 6.267 [ms]      |17.849 [ms]\n",
        "100.000|30.502 [ms]       | 159.546 [ms]\n",
        "200.000|53.803 [ms]       | 399.014 [ms]\n",
        "\n",
        "\n",
        "Tiempo promedio GPU |\tTiempo promedio CPU\n",
        "-------------------|------------------\n",
        "16.15 ms | 97,2 ms"
      ]
    },
    {
      "cell_type": "markdown",
      "metadata": {
        "id": "lNX8jzs26Dlz"
      },
      "source": [
        "\n",
        "# 4. Conclusiones\n",
        "\n",
        "Observando las metricas, podemos concluir que el procesamiento de la imagen en GPU se realiza más rapido que en CPU a medida que aumenta el tamaño del vector. Al inicio, incluso es más rápido el tiempo en cpu en un vector de tamaño 10. Sin embargo, ya cuando el vector es de 200.000 elementos, el tiempo en gpu es 4 veces más chico. Esto demuestra cómo el procesamiento paralelo es mucho mejor que el secuencial a medida que hay más datos para procesar. \n",
        "Otro punto a tener en cuenta fue la dificultad de implementar los algoritmos en gpu, mientras que en cpu es un simple loop.\n",
        "\n",
        "# 5. Bibliografía\n",
        "\n",
        "[1] Manejo de vectores -Numpy: https://numpy.org/doc/stable/reference/generated/numpy.zeros.html\n",
        "\n",
        "\n",
        "[2] Cuda - Documentación Oficial Nvidia:  https://docs.nvidia.com/cuda/\n",
        "\n",
        "[3] Python basico UNLaM: https://github.com/wvaliente/SOA_HPC/blob/main/Documentos/Python_Basico.ipynb\n"
      ]
    },
    {
      "cell_type": "code",
      "metadata": {
        "id": "MFrvTMJq6Kcz"
      },
      "source": [
        ""
      ],
      "execution_count": null,
      "outputs": []
    }
  ]
}